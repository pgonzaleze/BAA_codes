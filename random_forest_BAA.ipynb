{
 "cells": [
  {
   "attachments": {},
   "cell_type": "markdown",
   "metadata": {},
   "source": [
    "# Random forest classifier using bleaching alert area (BAA) "
   ]
  },
  {
   "attachments": {},
   "cell_type": "markdown",
   "metadata": {},
   "source": [
    "## Load dataset"
   ]
  },
  {
   "cell_type": "code",
   "execution_count": 1,
   "metadata": {},
   "outputs": [
    {
     "name": "stdout",
     "output_type": "stream",
     "text": [
      "1.3.0\n"
     ]
    }
   ],
   "source": [
    "# Import libraries\n",
    "import pandas as pd\n",
    "import numpy as np\n",
    "from numpy import mean\n",
    "from numpy import std\n",
    "import seaborn as sb\n",
    "import matplotlib.pyplot as plt\n",
    "import pingouin as pg\n",
    "#from scipy.stats import shapiro, levene, bartlett, kruskal\n",
    "import scikit_posthocs as sp\n",
    "from scipy import stats\n",
    "from sklearn.datasets import make_classification\n",
    "from sklearn.model_selection import cross_val_score, RepeatedKFold\n",
    "from sklearn.ensemble import RandomForestClassifier\n",
    "from sklearn.metrics import log_loss, roc_auc_score\n",
    "from itertools import combinations, permutations\n",
    "\n",
    "# Check scikit-learn version\n",
    "from sklearn import __version__\n",
    "print(__version__)"
   ]
  },
  {
   "cell_type": "code",
   "execution_count": 2,
   "metadata": {},
   "outputs": [
    {
     "data": {
      "text/html": [
       "<div>\n",
       "<style scoped>\n",
       "    .dataframe tbody tr th:only-of-type {\n",
       "        vertical-align: middle;\n",
       "    }\n",
       "\n",
       "    .dataframe tbody tr th {\n",
       "        vertical-align: top;\n",
       "    }\n",
       "\n",
       "    .dataframe thead th {\n",
       "        text-align: right;\n",
       "    }\n",
       "</style>\n",
       "<table border=\"1\" class=\"dataframe\">\n",
       "  <thead>\n",
       "    <tr style=\"text-align: right;\">\n",
       "      <th></th>\n",
       "      <th>|</th>\n",
       "      <th>ITEM_ID</th>\n",
       "      <th>COUNTRY</th>\n",
       "      <th>lat</th>\n",
       "      <th>lon</th>\n",
       "      <th>SEVERITY_CODE</th>\n",
       "      <th>MONTH</th>\n",
       "      <th>YEAR</th>\n",
       "      <th>dummy_date</th>\n",
       "      <th>baa</th>\n",
       "      <th>Confusion matrix</th>\n",
       "      <th>Cases</th>\n",
       "    </tr>\n",
       "  </thead>\n",
       "  <tbody>\n",
       "    <tr>\n",
       "      <th>0</th>\n",
       "      <td>107</td>\n",
       "      <td>107</td>\n",
       "      <td>Comoros</td>\n",
       "      <td>-12.833333</td>\n",
       "      <td>45.216667</td>\n",
       "      <td>3</td>\n",
       "      <td>5</td>\n",
       "      <td>1986</td>\n",
       "      <td>1-5-1986</td>\n",
       "      <td>1.0</td>\n",
       "      <td>FN</td>\n",
       "      <td>4.0</td>\n",
       "    </tr>\n",
       "    <tr>\n",
       "      <th>1</th>\n",
       "      <td>108</td>\n",
       "      <td>108</td>\n",
       "      <td>Japan</td>\n",
       "      <td>26.500000</td>\n",
       "      <td>128.000000</td>\n",
       "      <td>3</td>\n",
       "      <td>6</td>\n",
       "      <td>1986</td>\n",
       "      <td>1-6-1986</td>\n",
       "      <td>NaN</td>\n",
       "      <td>TP</td>\n",
       "      <td>1.0</td>\n",
       "    </tr>\n",
       "    <tr>\n",
       "      <th>2</th>\n",
       "      <td>109</td>\n",
       "      <td>109</td>\n",
       "      <td>Barbados</td>\n",
       "      <td>13.039100</td>\n",
       "      <td>-59.523100</td>\n",
       "      <td>2</td>\n",
       "      <td>7</td>\n",
       "      <td>1986</td>\n",
       "      <td>1-7-1986</td>\n",
       "      <td>0.0</td>\n",
       "      <td>FN</td>\n",
       "      <td>4.0</td>\n",
       "    </tr>\n",
       "    <tr>\n",
       "      <th>3</th>\n",
       "      <td>111</td>\n",
       "      <td>111</td>\n",
       "      <td>United States</td>\n",
       "      <td>21.281062</td>\n",
       "      <td>-157.925008</td>\n",
       "      <td>3</td>\n",
       "      <td>8</td>\n",
       "      <td>1986</td>\n",
       "      <td>1-8-1986</td>\n",
       "      <td>0.0</td>\n",
       "      <td>FN</td>\n",
       "      <td>4.0</td>\n",
       "    </tr>\n",
       "    <tr>\n",
       "      <th>4</th>\n",
       "      <td>112</td>\n",
       "      <td>112</td>\n",
       "      <td>United States</td>\n",
       "      <td>18.383333</td>\n",
       "      <td>-154.633333</td>\n",
       "      <td>3</td>\n",
       "      <td>8</td>\n",
       "      <td>1986</td>\n",
       "      <td>1-8-1986</td>\n",
       "      <td>1.0</td>\n",
       "      <td>FN</td>\n",
       "      <td>4.0</td>\n",
       "    </tr>\n",
       "  </tbody>\n",
       "</table>\n",
       "</div>"
      ],
      "text/plain": [
       "     |  ITEM_ID        COUNTRY        lat         lon  SEVERITY_CODE  MONTH  \\\n",
       "0  107      107        Comoros -12.833333   45.216667              3      5   \n",
       "1  108      108          Japan  26.500000  128.000000              3      6   \n",
       "2  109      109       Barbados  13.039100  -59.523100              2      7   \n",
       "3  111      111  United States  21.281062 -157.925008              3      8   \n",
       "4  112      112  United States  18.383333 -154.633333              3      8   \n",
       "\n",
       "   YEAR dummy_date  baa Confusion matrix  Cases  \n",
       "0  1986   1-5-1986  1.0               FN    4.0  \n",
       "1  1986   1-6-1986  NaN               TP    1.0  \n",
       "2  1986   1-7-1986  0.0               FN    4.0  \n",
       "3  1986   1-8-1986  0.0               FN    4.0  \n",
       "4  1986   1-8-1986  1.0               FN    4.0  "
      ]
     },
     "execution_count": 2,
     "metadata": {},
     "output_type": "execute_result"
    }
   ],
   "source": [
    "'''\n",
    "    Load full dataset\n",
    "'''\n",
    "data = pd.read_csv('baa.csv')\n",
    "data.head()"
   ]
  },
  {
   "cell_type": "code",
   "execution_count": 3,
   "metadata": {},
   "outputs": [
    {
     "data": {
      "text/plain": [
       "35779"
      ]
     },
     "execution_count": 3,
     "metadata": {},
     "output_type": "execute_result"
    }
   ],
   "source": [
    "'''\n",
    "    Subset DF by SEVERITY_CODE [0,1,2,3]\n",
    "'''\n",
    "#data = data.dropna() # drop rows that contains NaN's \n",
    "data = data[(data.SEVERITY_CODE == 0)|(data.SEVERITY_CODE == 1)|(data.SEVERITY_CODE == 2)|(data.SEVERITY_CODE == 3)] \n",
    "#data = data[(data.YEAR >= 2015) & (data.YEAR <= 2016)] # subset a single event\n",
    "#data = data[(data.YEAR >= 1997) & (data.YEAR <= 1998)] \n",
    "#list(data.columns)\n",
    "data = data.dropna() # drop rows that contains NaN's\n",
    "len(data)"
   ]
  },
  {
   "cell_type": "code",
   "execution_count": 4,
   "metadata": {},
   "outputs": [
    {
     "data": {
      "text/plain": [
       "Index(['|', 'ITEM_ID', 'COUNTRY', 'lat', 'lon', 'SEVERITY_CODE', 'MONTH',\n",
       "       'YEAR', 'dummy_date', 'baa', 'Confusion matrix', 'Cases'],\n",
       "      dtype='object')"
      ]
     },
     "execution_count": 4,
     "metadata": {},
     "output_type": "execute_result"
    }
   ],
   "source": [
    "# len(data)\n",
    "data.columns"
   ]
  },
  {
   "cell_type": "code",
   "execution_count": 5,
   "metadata": {},
   "outputs": [],
   "source": [
    "'''\n",
    "Editable variable's model \n",
    "'''\n",
    "## \n",
    "X1=data[['Cases']] # Features (dependent variable)\n",
    "y=data['SEVERITY_CODE'] #labels (indipendent variable)"
   ]
  },
  {
   "cell_type": "code",
   "execution_count": 6,
   "metadata": {
    "tags": []
   },
   "outputs": [
    {
     "name": "stdout",
     "output_type": "stream",
     "text": [
      "   variables       VIF\n",
      "0      Cases  1.000000\n",
      "1  Intercept  7.193645\n"
     ]
    },
    {
     "name": "stderr",
     "output_type": "stream",
     "text": [
      "C:\\Users\\PedroG_SFU\\AppData\\Local\\Temp\\ipykernel_40932\\910329345.py:6: SettingWithCopyWarning: \n",
      "A value is trying to be set on a copy of a slice from a DataFrame.\n",
      "Try using .loc[row_indexer,col_indexer] = value instead\n",
      "\n",
      "See the caveats in the documentation: https://pandas.pydata.org/pandas-docs/stable/user_guide/indexing.html#returning-a-view-versus-a-copy\n",
      "  X1['Intercept'] = 1\n"
     ]
    }
   ],
   "source": [
    "'''\n",
    "    Variance inflation factor VIF\n",
    "'''\n",
    "from statsmodels.stats.outliers_influence import variance_inflation_factor\n",
    "# Get variables for which to compute VIF and add intercept term\n",
    "X1['Intercept'] = 1\n",
    "# Compute and view VIF\n",
    "vif = pd.DataFrame()\n",
    "vif[\"variables\"] = X1.columns\n",
    "vif[\"VIF\"] = [variance_inflation_factor(X1.values, i) for i in range(X1.shape[1])]\n",
    "# View results using print\n",
    "print(vif)"
   ]
  },
  {
   "attachments": {},
   "cell_type": "markdown",
   "metadata": {},
   "source": [
    "# Random forest classifier"
   ]
  },
  {
   "cell_type": "code",
   "execution_count": 7,
   "metadata": {
    "tags": []
   },
   "outputs": [],
   "source": [
    "'''\n",
    "    Build the models\n",
    "'''\n",
    "model = RandomForestClassifier(n_estimators=200, random_state=10)\n",
    "model.fit(X1,y)\n",
    "# evaluate the model\n",
    "cv = RepeatedKFold(n_splits=5, n_repeats=10, random_state=10)\n",
    "n_scores = cross_val_score(model, X1, y, cv=cv) #n_jobs=-1, error_score='raise'"
   ]
  },
  {
   "cell_type": "code",
   "execution_count": 8,
   "metadata": {
    "tags": []
   },
   "outputs": [
    {
     "name": "stdout",
     "output_type": "stream",
     "text": [
      "Cross val score: 0.659 (0.005)\n",
      "\n",
      "\n",
      "=== features importances ===\n"
     ]
    },
    {
     "data": {
      "text/html": [
       "<div>\n",
       "<style scoped>\n",
       "    .dataframe tbody tr th:only-of-type {\n",
       "        vertical-align: middle;\n",
       "    }\n",
       "\n",
       "    .dataframe tbody tr th {\n",
       "        vertical-align: top;\n",
       "    }\n",
       "\n",
       "    .dataframe thead th {\n",
       "        text-align: right;\n",
       "    }\n",
       "</style>\n",
       "<table border=\"1\" class=\"dataframe\">\n",
       "  <thead>\n",
       "    <tr style=\"text-align: right;\">\n",
       "      <th></th>\n",
       "      <th>feature</th>\n",
       "      <th>importance</th>\n",
       "    </tr>\n",
       "  </thead>\n",
       "  <tbody>\n",
       "    <tr>\n",
       "      <th>0</th>\n",
       "      <td>Cases</td>\n",
       "      <td>1.0</td>\n",
       "    </tr>\n",
       "    <tr>\n",
       "      <th>1</th>\n",
       "      <td>Intercept</td>\n",
       "      <td>0.0</td>\n",
       "    </tr>\n",
       "  </tbody>\n",
       "</table>\n",
       "</div>"
      ],
      "text/plain": [
       "     feature  importance\n",
       "0      Cases         1.0\n",
       "1  Intercept         0.0"
      ]
     },
     "execution_count": 8,
     "metadata": {},
     "output_type": "execute_result"
    }
   ],
   "source": [
    "'''\n",
    "    Report performance\n",
    "'''\n",
    "print('Cross val score: %.3f (%.3f)' % (mean(n_scores), std(n_scores)))\n",
    "print('\\n')\n",
    "# Features importance\n",
    "print('=== features importances ===')\n",
    "fi = pd.DataFrame({'feature': list(X1.columns),\n",
    "                   'importance': model.feature_importances_}).\\\n",
    "                    sort_values('importance', ascending = False)\n",
    "fi"
   ]
  },
  {
   "cell_type": "code",
   "execution_count": 9,
   "metadata": {
    "tags": []
   },
   "outputs": [
    {
     "name": "stdout",
     "output_type": "stream",
     "text": [
      "=== Confusion matrix ===\n",
      "[[14501   358     0     0]\n",
      " [ 7295   477     0     0]\n",
      " [    0     0  6572  1413]\n",
      " [    0     0  3122  2041]]\n",
      "\n",
      "\n",
      "=== Confusion matrix normalized ===\n",
      "[[0.40529361 0.01000587 0.         0.        ]\n",
      " [0.20389055 0.01333184 0.         0.        ]\n",
      " [0.         0.         0.18368317 0.03949244]\n",
      " [0.         0.         0.08725789 0.05704464]]\n",
      "\n",
      "\n",
      "=== Classification Report ===\n",
      "              precision    recall  f1-score   support\n",
      "\n",
      "           0       0.67      0.98      0.79     14859\n",
      "           1       0.57      0.06      0.11      7772\n",
      "           2       0.68      0.82      0.74      7985\n",
      "           3       0.59      0.40      0.47      5163\n",
      "\n",
      "    accuracy                           0.66     35779\n",
      "   macro avg       0.63      0.56      0.53     35779\n",
      "weighted avg       0.64      0.66      0.59     35779\n",
      "\n",
      "\n",
      "\n",
      "=== Accuracy and Kappa ===\n",
      "accuracy 0.6593532519075436\n",
      "\n",
      "\n",
      "kappa 0.4896973686565592\n",
      "\n",
      "\n"
     ]
    }
   ],
   "source": [
    "'''\n",
    "    Confusion matrix\n",
    "'''\n",
    "from sklearn.metrics import confusion_matrix, classification_report\n",
    "from sklearn import metrics\n",
    "from sklearn.model_selection import cross_val_score\n",
    "y_pred=model.predict(X1)\n",
    "conf_mat = confusion_matrix(y, y_pred)\n",
    "conf_mat_norm = confusion_matrix(y, y_pred,normalize='all')\n",
    "print(\"=== Confusion matrix ===\")\n",
    "print(conf_mat)\n",
    "print('\\n')\n",
    "print(\"=== Confusion matrix normalized ===\")\n",
    "print(conf_mat_norm)\n",
    "print('\\n')\n",
    "print(\"=== Classification Report ===\")\n",
    "print(classification_report(y, y_pred))\n",
    "print('\\n')\n",
    "print('=== Accuracy and Kappa ===')\n",
    "print('accuracy', metrics.accuracy_score(y, y_pred))\n",
    "print('\\n')\n",
    "print('kappa', metrics.cohen_kappa_score(y, y_pred))\n",
    "print('\\n')\n"
   ]
  },
  {
   "cell_type": "code",
   "execution_count": 10,
   "metadata": {
    "tags": []
   },
   "outputs": [
    {
     "name": "stdout",
     "output_type": "stream",
     "text": [
      "=== roc_auc_score ===\n",
      "0.8546364191755381\n",
      " \n",
      "=== log_loss_score ===\n",
      "0.639836986793378\n"
     ]
    }
   ],
   "source": [
    "'''\n",
    "    Evaluation between classifications models through \"log loss\"\n",
    "'''\n",
    "model_probs = model.predict_proba(X1)\n",
    "score = log_loss(y, model_probs)\n",
    "\n",
    "\n",
    "'''\n",
    "    Evaluation between classifications models through \"ROC_AUC\"\n",
    "'''\n",
    "roc_value = roc_auc_score(y, model_probs, multi_class='ovo') # ovo': Computes the average AUC of all possible pairwise combinations of classes\n",
    "\n",
    "print('=== roc_auc_score ===') \n",
    "print(roc_value)\n",
    "print(' ')\n",
    "print('=== log_loss_score ===') \n",
    "print(score)\n"
   ]
  },
  {
   "cell_type": "code",
   "execution_count": 12,
   "metadata": {},
   "outputs": [
    {
     "data": {
      "image/png": "[encoded data removed]",
      "text/plain": [
       "<Figure size 640x480 with 2 Axes>"
      ]
     },
     "metadata": {},
     "output_type": "display_data"
    }
   ],
   "source": [
    "ax = plt.subplot()\n",
    "#Heat map with annot=True to annotate cells\n",
    "sb.heatmap(conf_mat, annot=True, ax = ax, fmt='d', cmap='Blues') # actual cases\n",
    "#sns.heatmap(conf_mat/np.sum(conf_mat), annot=True, ax = ax, fmt='.2%', cmap='Blues') #percentage\n",
    "# labels, title and ticks\n",
    "ax.set_xlabel('Predicted bleaching level');ax.set_ylabel('True bleaching level'); \n",
    "ax.set_title('Confusion Matrix'); \n",
    "ax.xaxis.set_ticklabels(['level 0','level 1','level 2', 'level 3']); ax.yaxis.set_ticklabels(['level 0','level 1','level 2', 'level 3'])\n",
    "plt.show()\n",
    "#plt.savefig('DHW_monmean_CF_a_monmean.pdf', dpi=300)"
   ]
  },
  {
   "cell_type": "code",
   "execution_count": 13,
   "metadata": {},
   "outputs": [
    {
     "name": "stdout",
     "output_type": "stream",
     "text": [
      "       Real  Predictions\n",
      "0         3            2\n",
      "2         2            2\n",
      "3         3            2\n",
      "4         3            2\n",
      "5         2            2\n",
      "...     ...          ...\n",
      "35947     0            0\n",
      "35948     0            0\n",
      "35949     0            0\n",
      "35950     3            2\n",
      "35951     0            0\n",
      "\n",
      "[35779 rows x 2 columns]\n"
     ]
    }
   ],
   "source": [
    "comparisons = pd.DataFrame({'Real':y, 'Predictions':y_pred})\n",
    "#comparisons.to_csv('comparisons.csv')\n",
    "print(comparisons[['Real','Predictions']])"
   ]
  }
 ],
 "metadata": {
  "kernelspec": {
   "display_name": "Python 3",
   "name": "python3"
  },
  "language_info": {
   "codemirror_mode": {
    "name": "ipython",
    "version": 3
   },
   "file_extension": ".py",
   "mimetype": "text/x-python",
   "name": "python",
   "nbconvert_exporter": "python",
   "pygments_lexer": "ipython3",
   "version": "3.10.10"
  },
  "orig_nbformat": 2
 },
 "nbformat": 4,
 "nbformat_minor": 2
}
